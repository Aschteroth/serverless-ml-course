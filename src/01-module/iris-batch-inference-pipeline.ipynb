{
 "cells": [
  {
   "cell_type": "markdown",
   "metadata": {
    "id": "d2kLrOh-bpGy"
   },
   "source": [
    "# Iris Flower - Batch Prediction\n",
    "\n",
    "\n",
    "In this notebook we will, \n",
    "\n",
    "1. Load the batch inference data that arrived in the last 24 hours\n",
    "2. Predict the first Iris Flower found in the batch\n",
    "3. Write the ouput png of the Iris flower predicted, to be displayed in Github Pages."
   ]
  },
  {
   "cell_type": "code",
   "execution_count": 50,
   "metadata": {
    "id": "xRtpj-psbpG8"
   },
   "outputs": [
    {
     "name": "stdout",
     "output_type": "stream",
     "text": [
      "Connection closed.\n",
      "Connected. Call `.close()` to terminate connection gracefully.\n",
      "\n",
      "Logged in to project, explore it here https://c.app.hopsworks.ai:443/p/3287\n",
      "Connected. Call `.close()` to terminate connection gracefully.\n"
     ]
    }
   ],
   "source": [
    "import pandas as pd\n",
    "import hopsworks\n",
    "import joblib\n",
    "\n",
    "from ctypes import *\n",
    "CDLL(r\"C:\\Users\\JulianSternitzke\\anaconda3\\Lib\\site-packages\\confluent_kafka.libs\\librdkafka-5d2e2910.dll\")\n",
    "\n",
    "project = hopsworks.login()\n",
    "fs = project.get_feature_store()"
   ]
  },
  {
   "cell_type": "code",
   "execution_count": 51,
   "metadata": {},
   "outputs": [
    {
     "name": "stdout",
     "output_type": "stream",
     "text": [
      "Connected. Call `.close()` to terminate connection gracefully.\n",
      "Downloading file ... "
     ]
    }
   ],
   "source": [
    "mr = project.get_model_registry()\n",
    "model = mr.get_model(\"iris\", version=1)\n",
    "model_dir = model.download()\n",
    "model = joblib.load(model_dir + \"/iris_model.pkl\")"
   ]
  },
  {
   "cell_type": "markdown",
   "metadata": {},
   "source": [
    "We are downloading the 'raw' iris data. We explicitly do not want transformed data, reading for training. \n",
    "\n",
    "So, let's download the iris dataset, and preview some rows. \n",
    "\n",
    "Note, that it is 'tabular data'. There are 5 columns: 4 of them are \"features\", and the \"variety\" column is the **target** (what we are trying to predict using the 4 feature values in the target's row)."
   ]
  },
  {
   "cell_type": "code",
   "execution_count": 52,
   "metadata": {
    "colab": {
     "base_uri": "https://localhost:8080/",
     "height": 206
    },
    "id": "nRmFM7vcbpHA",
    "outputId": "d920d168-9818-40c5-c292-4cf0afcbbcfd"
   },
   "outputs": [],
   "source": [
    "feature_view = fs.get_feature_view(name=\"iris\", version=1)"
   ]
  },
  {
   "cell_type": "markdown",
   "metadata": {},
   "source": [
    "Now we will do some **Batch Inference**. \n",
    "\n",
    "We will read all the input features that have arrived in the last 24 hours, and score them."
   ]
  },
  {
   "cell_type": "code",
   "execution_count": 53,
   "metadata": {
    "id": "uHuAD3ttP8Ep"
   },
   "outputs": [
    {
     "name": "stderr",
     "output_type": "stream",
     "text": [
      "VersionWarning: No training dataset version was provided to initialise batch scoring . Defaulting to version 1.\n"
     ]
    },
    {
     "name": "stdout",
     "output_type": "stream",
     "text": [
      "2022-10-27 09:06:56,317 INFO: USE `julianserverlessml_featurestore`\n",
      "2022-10-27 09:06:57,293 INFO: SELECT `fg0`.`sepal_length` `sepal_length`, `fg0`.`sepal_width` `sepal_width`, `fg0`.`petal_length` `petal_length`, `fg0`.`petal_width` `petal_width`\n",
      "FROM `julianserverlessml_featurestore`.`iris_1` `fg0`\n"
     ]
    },
    {
     "name": "stderr",
     "output_type": "stream",
     "text": [
      "UserWarning: pandas only support SQLAlchemy connectable(engine/connection) ordatabase string URI or sqlite3 DBAPI2 connectionother DBAPI2 objects are not tested, please consider using SQLAlchemy\n"
     ]
    },
    {
     "data": {
      "text/plain": [
       "array(['Versicolor', 'Virginica', 'Setosa', 'Virginica', 'Versicolor',\n",
       "       'Virginica', 'Setosa', 'Virginica', 'Versicolor', 'Versicolor',\n",
       "       'Versicolor', 'Virginica', 'Virginica', 'Virginica', 'Virginica',\n",
       "       'Virginica', 'Virginica', 'Versicolor', 'Setosa', 'Versicolor',\n",
       "       'Versicolor', 'Versicolor', 'Versicolor', 'Versicolor', 'Setosa',\n",
       "       'Virginica', 'Setosa', 'Setosa', 'Versicolor', 'Setosa', 'Setosa',\n",
       "       'Virginica', 'Versicolor', 'Virginica', 'Virginica', 'Setosa',\n",
       "       'Setosa', 'Virginica', 'Setosa', 'Versicolor', 'Setosa',\n",
       "       'Virginica', 'Versicolor', 'Versicolor', 'Setosa', 'Versicolor',\n",
       "       'Versicolor', 'Virginica', 'Versicolor', 'Versicolor',\n",
       "       'Versicolor', 'Versicolor', 'Virginica', 'Versicolor', 'Virginica',\n",
       "       'Versicolor', 'Setosa', 'Versicolor', 'Virginica', 'Setosa',\n",
       "       'Setosa', 'Setosa', 'Versicolor', 'Setosa', 'Setosa', 'Virginica',\n",
       "       'Versicolor', 'Virginica', 'Versicolor', 'Versicolor', 'Virginica',\n",
       "       'Versicolor', 'Versicolor', 'Setosa', 'Virginica', 'Virginica',\n",
       "       'Virginica', 'Versicolor', 'Virginica', 'Virginica', 'Virginica',\n",
       "       'Versicolor', 'Virginica', 'Versicolor', 'Virginica', 'Virginica',\n",
       "       'Setosa', 'Versicolor', 'Virginica', 'Versicolor', 'Setosa',\n",
       "       'Versicolor', 'Versicolor', 'Virginica', 'Setosa', 'Setosa',\n",
       "       'Setosa', 'Versicolor', 'Virginica', 'Setosa', 'Virginica',\n",
       "       'Setosa', 'Setosa', 'Versicolor', 'Virginica', 'Setosa',\n",
       "       'Versicolor', 'Setosa', 'Setosa', 'Setosa', 'Virginica', 'Setosa',\n",
       "       'Virginica', 'Setosa', 'Setosa', 'Setosa', 'Setosa', 'Setosa',\n",
       "       'Setosa', 'Versicolor', 'Setosa', 'Setosa', 'Setosa', 'Versicolor',\n",
       "       'Virginica', 'Versicolor', 'Setosa', 'Virginica', 'Setosa',\n",
       "       'Versicolor', 'Setosa', 'Setosa', 'Virginica', 'Virginica',\n",
       "       'Setosa', 'Versicolor', 'Setosa', 'Versicolor', 'Virginica',\n",
       "       'Virginica', 'Versicolor', 'Versicolor', 'Virginica', 'Versicolor',\n",
       "       'Virginica', 'Versicolor', 'Versicolor', 'Setosa', 'Versicolor',\n",
       "       'Setosa', 'Versicolor', 'Setosa', 'Virginica', 'Setosa',\n",
       "       'Virginica', 'Versicolor'], dtype=object)"
      ]
     },
     "execution_count": 53,
     "metadata": {},
     "output_type": "execute_result"
    }
   ],
   "source": [
    "import datetime\n",
    "from PIL import Image\n",
    "\n",
    "batch_data = feature_view.get_batch_data()\n",
    "\n",
    "y_pred = model.predict(batch_data)\n",
    "\n",
    "y_pred"
   ]
  },
  {
   "cell_type": "code",
   "execution_count": 54,
   "metadata": {},
   "outputs": [
    {
     "data": {
      "text/html": [
       "<div>\n",
       "<style scoped>\n",
       "    .dataframe tbody tr th:only-of-type {\n",
       "        vertical-align: middle;\n",
       "    }\n",
       "\n",
       "    .dataframe tbody tr th {\n",
       "        vertical-align: top;\n",
       "    }\n",
       "\n",
       "    .dataframe thead th {\n",
       "        text-align: right;\n",
       "    }\n",
       "</style>\n",
       "<table border=\"1\" class=\"dataframe\">\n",
       "  <thead>\n",
       "    <tr style=\"text-align: right;\">\n",
       "      <th></th>\n",
       "      <th>sepal_length</th>\n",
       "      <th>sepal_width</th>\n",
       "      <th>petal_length</th>\n",
       "      <th>petal_width</th>\n",
       "    </tr>\n",
       "  </thead>\n",
       "  <tbody>\n",
       "    <tr>\n",
       "      <th>0</th>\n",
       "      <td>7.912125</td>\n",
       "      <td>3.002073</td>\n",
       "      <td>4.927501</td>\n",
       "      <td>1.730696</td>\n",
       "    </tr>\n",
       "    <tr>\n",
       "      <th>1</th>\n",
       "      <td>6.045500</td>\n",
       "      <td>3.018019</td>\n",
       "      <td>5.169237</td>\n",
       "      <td>2.251561</td>\n",
       "    </tr>\n",
       "    <tr>\n",
       "      <th>2</th>\n",
       "      <td>4.900000</td>\n",
       "      <td>3.600000</td>\n",
       "      <td>1.400000</td>\n",
       "      <td>0.100000</td>\n",
       "    </tr>\n",
       "    <tr>\n",
       "      <th>3</th>\n",
       "      <td>5.700000</td>\n",
       "      <td>2.500000</td>\n",
       "      <td>5.000000</td>\n",
       "      <td>2.000000</td>\n",
       "    </tr>\n",
       "    <tr>\n",
       "      <th>4</th>\n",
       "      <td>5.700000</td>\n",
       "      <td>3.000000</td>\n",
       "      <td>4.200000</td>\n",
       "      <td>1.200000</td>\n",
       "    </tr>\n",
       "    <tr>\n",
       "      <th>...</th>\n",
       "      <td>...</td>\n",
       "      <td>...</td>\n",
       "      <td>...</td>\n",
       "      <td>...</td>\n",
       "    </tr>\n",
       "    <tr>\n",
       "      <th>151</th>\n",
       "      <td>4.871063</td>\n",
       "      <td>2.512424</td>\n",
       "      <td>1.279785</td>\n",
       "      <td>0.627964</td>\n",
       "    </tr>\n",
       "    <tr>\n",
       "      <th>152</th>\n",
       "      <td>6.751440</td>\n",
       "      <td>3.097988</td>\n",
       "      <td>6.483427</td>\n",
       "      <td>2.059635</td>\n",
       "    </tr>\n",
       "    <tr>\n",
       "      <th>153</th>\n",
       "      <td>5.911169</td>\n",
       "      <td>4.373373</td>\n",
       "      <td>1.631349</td>\n",
       "      <td>0.442032</td>\n",
       "    </tr>\n",
       "    <tr>\n",
       "      <th>154</th>\n",
       "      <td>7.426940</td>\n",
       "      <td>3.069407</td>\n",
       "      <td>5.408808</td>\n",
       "      <td>1.867768</td>\n",
       "    </tr>\n",
       "    <tr>\n",
       "      <th>155</th>\n",
       "      <td>7.703118</td>\n",
       "      <td>2.768005</td>\n",
       "      <td>4.687821</td>\n",
       "      <td>1.417558</td>\n",
       "    </tr>\n",
       "  </tbody>\n",
       "</table>\n",
       "<p>156 rows × 4 columns</p>\n",
       "</div>"
      ],
      "text/plain": [
       "     sepal_length  sepal_width  petal_length  petal_width\n",
       "0        7.912125     3.002073      4.927501     1.730696\n",
       "1        6.045500     3.018019      5.169237     2.251561\n",
       "2        4.900000     3.600000      1.400000     0.100000\n",
       "3        5.700000     2.500000      5.000000     2.000000\n",
       "4        5.700000     3.000000      4.200000     1.200000\n",
       "..            ...          ...           ...          ...\n",
       "151      4.871063     2.512424      1.279785     0.627964\n",
       "152      6.751440     3.097988      6.483427     2.059635\n",
       "153      5.911169     4.373373      1.631349     0.442032\n",
       "154      7.426940     3.069407      5.408808     1.867768\n",
       "155      7.703118     2.768005      4.687821     1.417558\n",
       "\n",
       "[156 rows x 4 columns]"
      ]
     },
     "execution_count": 54,
     "metadata": {},
     "output_type": "execute_result"
    }
   ],
   "source": [
    "batch_data"
   ]
  },
  {
   "cell_type": "markdown",
   "metadata": {},
   "source": [
    "Batch prediction output is the last entry in the batch - it is output as a file 'latest_iris.png'"
   ]
  },
  {
   "cell_type": "code",
   "execution_count": 56,
   "metadata": {},
   "outputs": [
    {
     "ename": "FileNotFoundError",
     "evalue": "[Errno 2] No such file or directory: 'assets/Versicolor.png'",
     "output_type": "error",
     "traceback": [
      "\u001b[1;31m---------------------------------------------------------------------------\u001b[0m",
      "\u001b[1;31mFileNotFoundError\u001b[0m                         Traceback (most recent call last)",
      "\u001b[1;32mC:\\Users\\JULIAN~1\\AppData\\Local\\Temp/ipykernel_2556/530113545.py\u001b[0m in \u001b[0;36m<module>\u001b[1;34m\u001b[0m\n\u001b[0;32m      1\u001b[0m \u001b[0mflower\u001b[0m \u001b[1;33m=\u001b[0m \u001b[0my_pred\u001b[0m\u001b[1;33m[\u001b[0m\u001b[0my_pred\u001b[0m\u001b[1;33m.\u001b[0m\u001b[0msize\u001b[0m\u001b[1;33m-\u001b[0m\u001b[1;36m1\u001b[0m\u001b[1;33m]\u001b[0m\u001b[1;33m\u001b[0m\u001b[1;33m\u001b[0m\u001b[0m\n\u001b[0;32m      2\u001b[0m \u001b[0mflower_img\u001b[0m \u001b[1;33m=\u001b[0m \u001b[1;34m\"assets/\"\u001b[0m \u001b[1;33m+\u001b[0m \u001b[0mflower\u001b[0m \u001b[1;33m+\u001b[0m \u001b[1;34m\".png\"\u001b[0m\u001b[1;33m\u001b[0m\u001b[1;33m\u001b[0m\u001b[0m\n\u001b[1;32m----> 3\u001b[1;33m \u001b[0mimg\u001b[0m \u001b[1;33m=\u001b[0m \u001b[0mImage\u001b[0m\u001b[1;33m.\u001b[0m\u001b[0mopen\u001b[0m\u001b[1;33m(\u001b[0m\u001b[0mflower_img\u001b[0m\u001b[1;33m)\u001b[0m\u001b[1;33m\u001b[0m\u001b[1;33m\u001b[0m\u001b[0m\n\u001b[0m\u001b[0;32m      4\u001b[0m \u001b[1;33m\u001b[0m\u001b[0m\n\u001b[0;32m      5\u001b[0m \u001b[0mimg\u001b[0m\u001b[1;33m.\u001b[0m\u001b[0msave\u001b[0m\u001b[1;33m(\u001b[0m\u001b[1;34m\"../../assets/latest_iris.png\"\u001b[0m\u001b[1;33m)\u001b[0m\u001b[1;33m\u001b[0m\u001b[1;33m\u001b[0m\u001b[0m\n",
      "\u001b[1;32m~\\anaconda3\\lib\\site-packages\\PIL\\Image.py\u001b[0m in \u001b[0;36mopen\u001b[1;34m(fp, mode, formats)\u001b[0m\n\u001b[0;32m   2973\u001b[0m \u001b[1;33m\u001b[0m\u001b[0m\n\u001b[0;32m   2974\u001b[0m     \u001b[1;32mif\u001b[0m \u001b[0mfilename\u001b[0m\u001b[1;33m:\u001b[0m\u001b[1;33m\u001b[0m\u001b[1;33m\u001b[0m\u001b[0m\n\u001b[1;32m-> 2975\u001b[1;33m         \u001b[0mfp\u001b[0m \u001b[1;33m=\u001b[0m \u001b[0mbuiltins\u001b[0m\u001b[1;33m.\u001b[0m\u001b[0mopen\u001b[0m\u001b[1;33m(\u001b[0m\u001b[0mfilename\u001b[0m\u001b[1;33m,\u001b[0m \u001b[1;34m\"rb\"\u001b[0m\u001b[1;33m)\u001b[0m\u001b[1;33m\u001b[0m\u001b[1;33m\u001b[0m\u001b[0m\n\u001b[0m\u001b[0;32m   2976\u001b[0m         \u001b[0mexclusive_fp\u001b[0m \u001b[1;33m=\u001b[0m \u001b[1;32mTrue\u001b[0m\u001b[1;33m\u001b[0m\u001b[1;33m\u001b[0m\u001b[0m\n\u001b[0;32m   2977\u001b[0m \u001b[1;33m\u001b[0m\u001b[0m\n",
      "\u001b[1;31mFileNotFoundError\u001b[0m: [Errno 2] No such file or directory: 'assets/Versicolor.png'"
     ]
    }
   ],
   "source": [
    "flower = y_pred[y_pred.size-1]\n",
    "flower_img = \"assets/\" + flower + \".png\"\n",
    "img = Image.open(flower_img)            \n",
    "\n",
    "img.save(\"../../assets/latest_iris.png\")"
   ]
  },
  {
   "cell_type": "code",
   "execution_count": 57,
   "metadata": {},
   "outputs": [
    {
     "name": "stdout",
     "output_type": "stream",
     "text": [
      "2022-10-27 09:09:25,430 INFO: USE `julianserverlessml_featurestore`\n",
      "2022-10-27 09:09:26,406 INFO: SELECT `fg0`.`sepal_length` `sepal_length`, `fg0`.`sepal_width` `sepal_width`, `fg0`.`petal_length` `petal_length`, `fg0`.`petal_width` `petal_width`, `fg0`.`variety` `variety`\n",
      "FROM `julianserverlessml_featurestore`.`iris_1` `fg0`\n"
     ]
    },
    {
     "name": "stderr",
     "output_type": "stream",
     "text": [
      "UserWarning: pandas only support SQLAlchemy connectable(engine/connection) ordatabase string URI or sqlite3 DBAPI2 connectionother DBAPI2 objects are not tested, please consider using SQLAlchemy\n"
     ]
    },
    {
     "data": {
      "text/html": [
       "<div>\n",
       "<style scoped>\n",
       "    .dataframe tbody tr th:only-of-type {\n",
       "        vertical-align: middle;\n",
       "    }\n",
       "\n",
       "    .dataframe tbody tr th {\n",
       "        vertical-align: top;\n",
       "    }\n",
       "\n",
       "    .dataframe thead th {\n",
       "        text-align: right;\n",
       "    }\n",
       "</style>\n",
       "<table border=\"1\" class=\"dataframe\">\n",
       "  <thead>\n",
       "    <tr style=\"text-align: right;\">\n",
       "      <th></th>\n",
       "      <th>sepal_length</th>\n",
       "      <th>sepal_width</th>\n",
       "      <th>petal_length</th>\n",
       "      <th>petal_width</th>\n",
       "      <th>variety</th>\n",
       "    </tr>\n",
       "  </thead>\n",
       "  <tbody>\n",
       "    <tr>\n",
       "      <th>0</th>\n",
       "      <td>7.912125</td>\n",
       "      <td>3.002073</td>\n",
       "      <td>4.927501</td>\n",
       "      <td>1.730696</td>\n",
       "      <td>Virginica</td>\n",
       "    </tr>\n",
       "    <tr>\n",
       "      <th>1</th>\n",
       "      <td>6.045500</td>\n",
       "      <td>3.018019</td>\n",
       "      <td>5.169237</td>\n",
       "      <td>2.251561</td>\n",
       "      <td>Virginica</td>\n",
       "    </tr>\n",
       "    <tr>\n",
       "      <th>2</th>\n",
       "      <td>4.900000</td>\n",
       "      <td>3.600000</td>\n",
       "      <td>1.400000</td>\n",
       "      <td>0.100000</td>\n",
       "      <td>Setosa</td>\n",
       "    </tr>\n",
       "    <tr>\n",
       "      <th>3</th>\n",
       "      <td>5.700000</td>\n",
       "      <td>2.500000</td>\n",
       "      <td>5.000000</td>\n",
       "      <td>2.000000</td>\n",
       "      <td>Virginica</td>\n",
       "    </tr>\n",
       "    <tr>\n",
       "      <th>4</th>\n",
       "      <td>5.700000</td>\n",
       "      <td>3.000000</td>\n",
       "      <td>4.200000</td>\n",
       "      <td>1.200000</td>\n",
       "      <td>Versicolor</td>\n",
       "    </tr>\n",
       "    <tr>\n",
       "      <th>...</th>\n",
       "      <td>...</td>\n",
       "      <td>...</td>\n",
       "      <td>...</td>\n",
       "      <td>...</td>\n",
       "      <td>...</td>\n",
       "    </tr>\n",
       "    <tr>\n",
       "      <th>151</th>\n",
       "      <td>4.871063</td>\n",
       "      <td>2.512424</td>\n",
       "      <td>1.279785</td>\n",
       "      <td>0.627964</td>\n",
       "      <td>Setosa</td>\n",
       "    </tr>\n",
       "    <tr>\n",
       "      <th>152</th>\n",
       "      <td>6.751440</td>\n",
       "      <td>3.097988</td>\n",
       "      <td>6.483427</td>\n",
       "      <td>2.059635</td>\n",
       "      <td>Virginica</td>\n",
       "    </tr>\n",
       "    <tr>\n",
       "      <th>153</th>\n",
       "      <td>5.911169</td>\n",
       "      <td>4.373373</td>\n",
       "      <td>1.631349</td>\n",
       "      <td>0.442032</td>\n",
       "      <td>Setosa</td>\n",
       "    </tr>\n",
       "    <tr>\n",
       "      <th>154</th>\n",
       "      <td>7.426940</td>\n",
       "      <td>3.069407</td>\n",
       "      <td>5.408808</td>\n",
       "      <td>1.867768</td>\n",
       "      <td>Virginica</td>\n",
       "    </tr>\n",
       "    <tr>\n",
       "      <th>155</th>\n",
       "      <td>7.703118</td>\n",
       "      <td>2.768005</td>\n",
       "      <td>4.687821</td>\n",
       "      <td>1.417558</td>\n",
       "      <td>Virginica</td>\n",
       "    </tr>\n",
       "  </tbody>\n",
       "</table>\n",
       "<p>156 rows × 5 columns</p>\n",
       "</div>"
      ],
      "text/plain": [
       "     sepal_length  sepal_width  petal_length  petal_width     variety\n",
       "0        7.912125     3.002073      4.927501     1.730696   Virginica\n",
       "1        6.045500     3.018019      5.169237     2.251561   Virginica\n",
       "2        4.900000     3.600000      1.400000     0.100000      Setosa\n",
       "3        5.700000     2.500000      5.000000     2.000000   Virginica\n",
       "4        5.700000     3.000000      4.200000     1.200000  Versicolor\n",
       "..            ...          ...           ...          ...         ...\n",
       "151      4.871063     2.512424      1.279785     0.627964      Setosa\n",
       "152      6.751440     3.097988      6.483427     2.059635   Virginica\n",
       "153      5.911169     4.373373      1.631349     0.442032      Setosa\n",
       "154      7.426940     3.069407      5.408808     1.867768   Virginica\n",
       "155      7.703118     2.768005      4.687821     1.417558   Virginica\n",
       "\n",
       "[156 rows x 5 columns]"
      ]
     },
     "execution_count": 57,
     "metadata": {},
     "output_type": "execute_result"
    }
   ],
   "source": [
    "iris_fg = fs.get_feature_group(name=\"iris\", version=1)\n",
    "df = iris_fg.read()\n",
    "df"
   ]
  },
  {
   "cell_type": "code",
   "execution_count": 58,
   "metadata": {},
   "outputs": [
    {
     "data": {
      "text/plain": [
       "'Virginica'"
      ]
     },
     "execution_count": 58,
     "metadata": {},
     "output_type": "execute_result"
    }
   ],
   "source": [
    "label = df.iloc[-1][\"variety\"]\n",
    "label"
   ]
  },
  {
   "cell_type": "code",
   "execution_count": 59,
   "metadata": {},
   "outputs": [
    {
     "ename": "FileNotFoundError",
     "evalue": "[Errno 2] No such file or directory: 'assets/Virginica.png'",
     "output_type": "error",
     "traceback": [
      "\u001b[1;31m---------------------------------------------------------------------------\u001b[0m",
      "\u001b[1;31mFileNotFoundError\u001b[0m                         Traceback (most recent call last)",
      "\u001b[1;32mC:\\Users\\JULIAN~1\\AppData\\Local\\Temp/ipykernel_2556/1107121196.py\u001b[0m in \u001b[0;36m<module>\u001b[1;34m\u001b[0m\n\u001b[0;32m      1\u001b[0m \u001b[0mlabel_flower\u001b[0m \u001b[1;33m=\u001b[0m \u001b[1;34m\"assets/\"\u001b[0m \u001b[1;33m+\u001b[0m \u001b[0mlabel\u001b[0m \u001b[1;33m+\u001b[0m \u001b[1;34m\".png\"\u001b[0m\u001b[1;33m\u001b[0m\u001b[1;33m\u001b[0m\u001b[0m\n\u001b[0;32m      2\u001b[0m \u001b[1;33m\u001b[0m\u001b[0m\n\u001b[1;32m----> 3\u001b[1;33m \u001b[0mimg\u001b[0m \u001b[1;33m=\u001b[0m \u001b[0mImage\u001b[0m\u001b[1;33m.\u001b[0m\u001b[0mopen\u001b[0m\u001b[1;33m(\u001b[0m\u001b[0mlabel_flower\u001b[0m\u001b[1;33m)\u001b[0m\u001b[1;33m\u001b[0m\u001b[1;33m\u001b[0m\u001b[0m\n\u001b[0m\u001b[0;32m      4\u001b[0m \u001b[1;33m\u001b[0m\u001b[0m\n\u001b[0;32m      5\u001b[0m \u001b[0mimg\u001b[0m\u001b[1;33m.\u001b[0m\u001b[0msave\u001b[0m\u001b[1;33m(\u001b[0m\u001b[1;34m\"../../assets/actual_iris.png\"\u001b[0m\u001b[1;33m)\u001b[0m\u001b[1;33m\u001b[0m\u001b[1;33m\u001b[0m\u001b[0m\n",
      "\u001b[1;32m~\\anaconda3\\lib\\site-packages\\PIL\\Image.py\u001b[0m in \u001b[0;36mopen\u001b[1;34m(fp, mode, formats)\u001b[0m\n\u001b[0;32m   2973\u001b[0m \u001b[1;33m\u001b[0m\u001b[0m\n\u001b[0;32m   2974\u001b[0m     \u001b[1;32mif\u001b[0m \u001b[0mfilename\u001b[0m\u001b[1;33m:\u001b[0m\u001b[1;33m\u001b[0m\u001b[1;33m\u001b[0m\u001b[0m\n\u001b[1;32m-> 2975\u001b[1;33m         \u001b[0mfp\u001b[0m \u001b[1;33m=\u001b[0m \u001b[0mbuiltins\u001b[0m\u001b[1;33m.\u001b[0m\u001b[0mopen\u001b[0m\u001b[1;33m(\u001b[0m\u001b[0mfilename\u001b[0m\u001b[1;33m,\u001b[0m \u001b[1;34m\"rb\"\u001b[0m\u001b[1;33m)\u001b[0m\u001b[1;33m\u001b[0m\u001b[1;33m\u001b[0m\u001b[0m\n\u001b[0m\u001b[0;32m   2976\u001b[0m         \u001b[0mexclusive_fp\u001b[0m \u001b[1;33m=\u001b[0m \u001b[1;32mTrue\u001b[0m\u001b[1;33m\u001b[0m\u001b[1;33m\u001b[0m\u001b[0m\n\u001b[0;32m   2977\u001b[0m \u001b[1;33m\u001b[0m\u001b[0m\n",
      "\u001b[1;31mFileNotFoundError\u001b[0m: [Errno 2] No such file or directory: 'assets/Virginica.png'"
     ]
    }
   ],
   "source": [
    "label_flower = \"assets/\" + label + \".png\"\n",
    "\n",
    "img = Image.open(label_flower)            \n",
    "\n",
    "img.save(\"../../assets/actual_iris.png\")"
   ]
  },
  {
   "cell_type": "code",
   "execution_count": 60,
   "metadata": {},
   "outputs": [],
   "source": [
    "import pandas as pd\n",
    "\n",
    "monitor_fg = fs.get_or_create_feature_group(name=\"iris_predictions\",\n",
    "                                  version=1,\n",
    "                                  primary_key=[\"datetime\"],\n",
    "                                  description=\"Iris flower Prediction/Outcome Monitoring\"\n",
    "                                 )"
   ]
  },
  {
   "cell_type": "code",
   "execution_count": null,
   "metadata": {},
   "outputs": [
    {
     "data": {
      "application/vnd.jupyter.widget-view+json": {
       "model_id": "ea7f6f876cf4418c952a09abd981467e",
       "version_major": 2,
       "version_minor": 0
      },
      "text/plain": [
       "Uploading Dataframe: 0.00% |          | Rows 0/1 | Elapsed Time: 00:00 | Remaining Time: ?"
      ]
     },
     "metadata": {},
     "output_type": "display_data"
    },
    {
     "name": "stdout",
     "output_type": "stream",
     "text": [
      "Launching offline feature group backfill job...\n",
      "Backfill Job started successfully, you can follow the progress at \n",
      "https://c.app.hopsworks.ai/p/3287/jobs/named/iris_predictions_1_offline_fg_backfill/executions\n"
     ]
    }
   ],
   "source": [
    "from datetime import datetime\n",
    "now = datetime.now().strftime(\"%m/%d/%Y, %H:%M:%S\")\n",
    "\n",
    "data = {\n",
    "    'prediction': [flower],\n",
    "    'label': [label],\n",
    "    'datetime': [now],\n",
    "}\n",
    "monitor_df = pd.DataFrame(data)\n",
    "monitor_fg.insert(monitor_df)"
   ]
  },
  {
   "cell_type": "code",
   "execution_count": 66,
   "metadata": {},
   "outputs": [
    {
     "name": "stdout",
     "output_type": "stream",
     "text": [
      "2022-10-27 09:13:13,366 INFO: USE `julianserverlessml_featurestore`\n",
      "2022-10-27 09:13:14,321 INFO: SELECT `fg0`.`prediction` `prediction`, `fg0`.`label` `label`, `fg0`.`datetime` `datetime`\n",
      "FROM `julianserverlessml_featurestore`.`iris_predictions_1` `fg0`\n"
     ]
    },
    {
     "name": "stderr",
     "output_type": "stream",
     "text": [
      "UserWarning: pandas only support SQLAlchemy connectable(engine/connection) ordatabase string URI or sqlite3 DBAPI2 connectionother DBAPI2 objects are not tested, please consider using SQLAlchemy\n"
     ]
    },
    {
     "data": {
      "text/html": [
       "<div>\n",
       "<style scoped>\n",
       "    .dataframe tbody tr th:only-of-type {\n",
       "        vertical-align: middle;\n",
       "    }\n",
       "\n",
       "    .dataframe tbody tr th {\n",
       "        vertical-align: top;\n",
       "    }\n",
       "\n",
       "    .dataframe thead th {\n",
       "        text-align: right;\n",
       "    }\n",
       "</style>\n",
       "<table border=\"1\" class=\"dataframe\">\n",
       "  <thead>\n",
       "    <tr style=\"text-align: right;\">\n",
       "      <th></th>\n",
       "      <th>prediction</th>\n",
       "      <th>label</th>\n",
       "      <th>datetime</th>\n",
       "    </tr>\n",
       "  </thead>\n",
       "  <tbody>\n",
       "    <tr>\n",
       "      <th>0</th>\n",
       "      <td>Versicolor</td>\n",
       "      <td>Versicolor</td>\n",
       "      <td>10/26/2022, 15:35:29</td>\n",
       "    </tr>\n",
       "    <tr>\n",
       "      <th>1</th>\n",
       "      <td>Versicolor</td>\n",
       "      <td>Setosa</td>\n",
       "      <td>10/26/2022, 16:18:20</td>\n",
       "    </tr>\n",
       "    <tr>\n",
       "      <th>2</th>\n",
       "      <td>Versicolor</td>\n",
       "      <td>Setosa</td>\n",
       "      <td>10/26/2022, 16:25:19</td>\n",
       "    </tr>\n",
       "    <tr>\n",
       "      <th>3</th>\n",
       "      <td>Versicolor</td>\n",
       "      <td>Virginica</td>\n",
       "      <td>10/26/2022, 16:39:34</td>\n",
       "    </tr>\n",
       "    <tr>\n",
       "      <th>4</th>\n",
       "      <td>Versicolor</td>\n",
       "      <td>Virginica</td>\n",
       "      <td>10/27/2022, 09:09:48</td>\n",
       "    </tr>\n",
       "  </tbody>\n",
       "</table>\n",
       "</div>"
      ],
      "text/plain": [
       "   prediction       label              datetime\n",
       "0  Versicolor  Versicolor  10/26/2022, 15:35:29\n",
       "1  Versicolor      Setosa  10/26/2022, 16:18:20\n",
       "2  Versicolor      Setosa  10/26/2022, 16:25:19\n",
       "3  Versicolor   Virginica  10/26/2022, 16:39:34\n",
       "4  Versicolor   Virginica  10/27/2022, 09:09:48"
      ]
     },
     "execution_count": 66,
     "metadata": {},
     "output_type": "execute_result"
    }
   ],
   "source": [
    "history_df = monitor_fg.read()\n",
    "history_df"
   ]
  },
  {
   "cell_type": "code",
   "execution_count": 14,
   "metadata": {
    "collapsed": true
   },
   "outputs": [
    {
     "name": "stdout",
     "output_type": "stream",
     "text": [
      "Collecting dataframe_image"
     ]
    },
    {
     "name": "stderr",
     "output_type": "stream",
     "text": [
      "Das System kann den angegebenen Pfad nicht finden.\n"
     ]
    },
    {
     "name": "stdout",
     "output_type": "stream",
     "text": [
      "\n",
      "  Downloading dataframe_image-0.1.3-py3-none-any.whl (6.6 MB)\n",
      "     ---------------------------------------- 6.6/6.6 MB 6.8 MB/s eta 0:00:00\n",
      "Requirement already satisfied: pandas>=0.24 in c:\\users\\juliansternitzke\\anaconda3\\lib\\site-packages (from dataframe_image) (1.4.0)\n",
      "Requirement already satisfied: mistune in c:\\users\\juliansternitzke\\anaconda3\\lib\\site-packages (from dataframe_image) (0.8.4)\n",
      "Requirement already satisfied: requests in c:\\users\\juliansternitzke\\anaconda3\\lib\\site-packages (from dataframe_image) (2.28.0)\n",
      "Requirement already satisfied: packaging in c:\\users\\juliansternitzke\\anaconda3\\lib\\site-packages (from dataframe_image) (21.0)\n",
      "Requirement already satisfied: nbconvert>=5 in c:\\users\\juliansternitzke\\anaconda3\\lib\\site-packages (from dataframe_image) (6.1.0)\n",
      "Collecting aiohttp\n",
      "  Downloading aiohttp-3.8.3-cp39-cp39-win_amd64.whl (323 kB)\n",
      "     -------------------------------------- 323.5/323.5 kB 5.0 MB/s eta 0:00:00\n",
      "Requirement already satisfied: beautifulsoup4 in c:\\users\\juliansternitzke\\anaconda3\\lib\\site-packages (from dataframe_image) (4.10.0)\n",
      "Requirement already satisfied: matplotlib>=3.1 in c:\\users\\juliansternitzke\\anaconda3\\lib\\site-packages (from dataframe_image) (3.4.3)\n",
      "Requirement already satisfied: cycler>=0.10 in c:\\users\\juliansternitzke\\anaconda3\\lib\\site-packages (from matplotlib>=3.1->dataframe_image) (0.10.0)\n",
      "Requirement already satisfied: numpy>=1.16 in c:\\users\\juliansternitzke\\anaconda3\\lib\\site-packages (from matplotlib>=3.1->dataframe_image) (1.21.6)\n",
      "Requirement already satisfied: pillow>=6.2.0 in c:\\users\\juliansternitzke\\anaconda3\\lib\\site-packages (from matplotlib>=3.1->dataframe_image) (8.4.0)\n",
      "Requirement already satisfied: python-dateutil>=2.7 in c:\\users\\juliansternitzke\\anaconda3\\lib\\site-packages (from matplotlib>=3.1->dataframe_image) (2.8.2)\n",
      "Requirement already satisfied: pyparsing>=2.2.1 in c:\\users\\juliansternitzke\\anaconda3\\lib\\site-packages (from matplotlib>=3.1->dataframe_image) (2.4.7)\n",
      "Requirement already satisfied: kiwisolver>=1.0.1 in c:\\users\\juliansternitzke\\anaconda3\\lib\\site-packages (from matplotlib>=3.1->dataframe_image) (1.3.1)\n",
      "Requirement already satisfied: defusedxml in c:\\users\\juliansternitzke\\anaconda3\\lib\\site-packages (from nbconvert>=5->dataframe_image) (0.7.1)\n",
      "Requirement already satisfied: nbclient<0.6.0,>=0.5.0 in c:\\users\\juliansternitzke\\anaconda3\\lib\\site-packages (from nbconvert>=5->dataframe_image) (0.5.3)\n",
      "Requirement already satisfied: entrypoints>=0.2.2 in c:\\users\\juliansternitzke\\anaconda3\\lib\\site-packages (from nbconvert>=5->dataframe_image) (0.3)\n",
      "Requirement already satisfied: traitlets>=5.0 in c:\\users\\juliansternitzke\\anaconda3\\lib\\site-packages (from nbconvert>=5->dataframe_image) (5.1.0)\n",
      "Requirement already satisfied: jupyter-core in c:\\users\\juliansternitzke\\anaconda3\\lib\\site-packages (from nbconvert>=5->dataframe_image) (4.8.1)\n",
      "Requirement already satisfied: pandocfilters>=1.4.1 in c:\\users\\juliansternitzke\\anaconda3\\lib\\site-packages (from nbconvert>=5->dataframe_image) (1.4.3)\n",
      "Requirement already satisfied: nbformat>=4.4 in c:\\users\\juliansternitzke\\anaconda3\\lib\\site-packages (from nbconvert>=5->dataframe_image) (5.1.3)\n",
      "Requirement already satisfied: jupyterlab-pygments in c:\\users\\juliansternitzke\\anaconda3\\lib\\site-packages (from nbconvert>=5->dataframe_image) (0.1.2)\n",
      "Requirement already satisfied: testpath in c:\\users\\juliansternitzke\\anaconda3\\lib\\site-packages (from nbconvert>=5->dataframe_image) (0.5.0)\n",
      "Requirement already satisfied: pygments>=2.4.1 in c:\\users\\juliansternitzke\\anaconda3\\lib\\site-packages (from nbconvert>=5->dataframe_image) (2.10.0)\n",
      "Requirement already satisfied: jinja2>=2.4 in c:\\users\\juliansternitzke\\anaconda3\\lib\\site-packages (from nbconvert>=5->dataframe_image) (2.11.3)\n",
      "Requirement already satisfied: bleach in c:\\users\\juliansternitzke\\anaconda3\\lib\\site-packages (from nbconvert>=5->dataframe_image) (4.0.0)\n",
      "Requirement already satisfied: pytz>=2020.1 in c:\\users\\juliansternitzke\\anaconda3\\lib\\site-packages (from pandas>=0.24->dataframe_image) (2021.3)\n",
      "Collecting aiosignal>=1.1.2\n",
      "  Using cached aiosignal-1.2.0-py3-none-any.whl (8.2 kB)\n",
      "Collecting async-timeout<5.0,>=4.0.0a3\n",
      "  Using cached async_timeout-4.0.2-py3-none-any.whl (5.8 kB)\n",
      "Requirement already satisfied: charset-normalizer<3.0,>=2.0 in c:\\users\\juliansternitzke\\anaconda3\\lib\\site-packages (from aiohttp->dataframe_image) (2.0.4)\n",
      "Collecting multidict<7.0,>=4.5\n",
      "  Downloading multidict-6.0.2-cp39-cp39-win_amd64.whl (28 kB)\n",
      "Collecting frozenlist>=1.1.1\n",
      "  Downloading frozenlist-1.3.1-cp39-cp39-win_amd64.whl (34 kB)\n",
      "Requirement already satisfied: attrs>=17.3.0 in c:\\users\\juliansternitzke\\anaconda3\\lib\\site-packages (from aiohttp->dataframe_image) (21.2.0)\n",
      "Collecting yarl<2.0,>=1.0\n",
      "  Downloading yarl-1.8.1-cp39-cp39-win_amd64.whl (56 kB)\n",
      "     ---------------------------------------- 56.7/56.7 kB 1.5 MB/s eta 0:00:00\n",
      "Requirement already satisfied: soupsieve>1.2 in c:\\users\\juliansternitzke\\anaconda3\\lib\\site-packages (from beautifulsoup4->dataframe_image) (2.2.1)\n",
      "Requirement already satisfied: certifi>=2017.4.17 in c:\\users\\juliansternitzke\\anaconda3\\lib\\site-packages (from requests->dataframe_image) (2021.10.8)\n",
      "Requirement already satisfied: urllib3<1.27,>=1.21.1 in c:\\users\\juliansternitzke\\anaconda3\\lib\\site-packages (from requests->dataframe_image) (1.26.7)\n",
      "Requirement already satisfied: idna<4,>=2.5 in c:\\users\\juliansternitzke\\anaconda3\\lib\\site-packages (from requests->dataframe_image) (3.2)\n",
      "Requirement already satisfied: six in c:\\users\\juliansternitzke\\anaconda3\\lib\\site-packages (from cycler>=0.10->matplotlib>=3.1->dataframe_image) (1.16.0)\n",
      "Requirement already satisfied: MarkupSafe>=0.23 in c:\\users\\juliansternitzke\\anaconda3\\lib\\site-packages (from jinja2>=2.4->nbconvert>=5->dataframe_image) (1.1.1)\n",
      "Requirement already satisfied: async-generator in c:\\users\\juliansternitzke\\anaconda3\\lib\\site-packages (from nbclient<0.6.0,>=0.5.0->nbconvert>=5->dataframe_image) (1.10)\n",
      "Requirement already satisfied: nest-asyncio in c:\\users\\juliansternitzke\\anaconda3\\lib\\site-packages (from nbclient<0.6.0,>=0.5.0->nbconvert>=5->dataframe_image) (1.5.1)\n",
      "Requirement already satisfied: jupyter-client>=6.1.5 in c:\\users\\juliansternitzke\\anaconda3\\lib\\site-packages (from nbclient<0.6.0,>=0.5.0->nbconvert>=5->dataframe_image) (6.1.12)\n",
      "Requirement already satisfied: jsonschema!=2.5.0,>=2.4 in c:\\users\\juliansternitzke\\anaconda3\\lib\\site-packages (from nbformat>=4.4->nbconvert>=5->dataframe_image) (3.2.0)\n",
      "Requirement already satisfied: ipython-genutils in c:\\users\\juliansternitzke\\anaconda3\\lib\\site-packages (from nbformat>=4.4->nbconvert>=5->dataframe_image) (0.2.0)\n",
      "Requirement already satisfied: webencodings in c:\\users\\juliansternitzke\\anaconda3\\lib\\site-packages (from bleach->nbconvert>=5->dataframe_image) (0.5.1)\n",
      "Requirement already satisfied: pywin32>=1.0 in c:\\users\\juliansternitzke\\anaconda3\\lib\\site-packages (from jupyter-core->nbconvert>=5->dataframe_image) (228)\n",
      "Requirement already satisfied: setuptools in c:\\users\\juliansternitzke\\anaconda3\\lib\\site-packages (from jsonschema!=2.5.0,>=2.4->nbformat>=4.4->nbconvert>=5->dataframe_image) (58.0.4)\n",
      "Requirement already satisfied: pyrsistent>=0.14.0 in c:\\users\\juliansternitzke\\anaconda3\\lib\\site-packages (from jsonschema!=2.5.0,>=2.4->nbformat>=4.4->nbconvert>=5->dataframe_image) (0.18.0)\n",
      "Requirement already satisfied: pyzmq>=13 in c:\\users\\juliansternitzke\\anaconda3\\lib\\site-packages (from jupyter-client>=6.1.5->nbclient<0.6.0,>=0.5.0->nbconvert>=5->dataframe_image) (22.2.1)\n",
      "Requirement already satisfied: tornado>=4.1 in c:\\users\\juliansternitzke\\anaconda3\\lib\\site-packages (from jupyter-client>=6.1.5->nbclient<0.6.0,>=0.5.0->nbconvert>=5->dataframe_image) (6.1)\n",
      "Installing collected packages: multidict, frozenlist, async-timeout, yarl, aiosignal, aiohttp, dataframe_image\n",
      "Successfully installed aiohttp-3.8.3 aiosignal-1.2.0 async-timeout-4.0.2 dataframe_image-0.1.3 frozenlist-1.3.1 multidict-6.0.2 yarl-1.8.1\n"
     ]
    }
   ],
   "source": [
    "#!pip install dataframe_image"
   ]
  },
  {
   "cell_type": "code",
   "execution_count": 67,
   "metadata": {},
   "outputs": [],
   "source": [
    "import dataframe_image as dfi\n",
    "\n",
    "df_recent = history_df.tail(5)\n",
    " \n",
    "# If you exclude this image, you may have the same iris_latest.png and iris_actual.png files\n",
    "# If no files have changed, the GH-action 'git commit/push' stage fails, failing your GH action (last step)\n",
    "# This image, however, is always new, ensuring git commit/push will succeed.\n",
    "dfi.export(df_recent, '../../assets/df_recent.png', table_conversion = 'matplotlib')"
   ]
  },
  {
   "cell_type": "code",
   "execution_count": 68,
   "metadata": {},
   "outputs": [
    {
     "name": "stdout",
     "output_type": "stream",
     "text": [
      "[[0 2 0]\n",
      " [0 1 0]\n",
      " [0 2 0]]\n"
     ]
    }
   ],
   "source": [
    "from sklearn.metrics import confusion_matrix\n",
    "\n",
    "predictions = history_df[['prediction']]\n",
    "labels = history_df[['label']]\n",
    "\n",
    "results = confusion_matrix(labels, predictions)\n",
    "print(results)"
   ]
  },
  {
   "cell_type": "code",
   "execution_count": 69,
   "metadata": {},
   "outputs": [
    {
     "data": {
      "image/png": "[encoded data removed]",
      "text/plain": [
       "<Figure size 432x288 with 2 Axes>"
      ]
     },
     "metadata": {
      "needs_background": "light"
     },
     "output_type": "display_data"
    }
   ],
   "source": [
    "from matplotlib import pyplot\n",
    "import seaborn as sns\n",
    "\n",
    "# Only create the confusion matrix when our iris_predictions feature group has examples of all 3 iris flowers\n",
    "if results.shape == (3,3):\n",
    "\n",
    "    df_cm = pd.DataFrame(results, ['True Setosa', 'True Versicolor', 'True Virginica'],\n",
    "                         ['Pred Setosa', 'Pred Versicolor', 'Pred Virginica'])\n",
    "\n",
    "    cm = sns.heatmap(df_cm, annot=True)\n",
    "\n",
    "    fig = cm.get_figure()\n",
    "    fig.savefig(\"../../assets/confusion_matrix.png\") \n",
    "    df_cm\n",
    "else:\n",
    "    print(\"Run the batch inference pipeline more times until you get 3 different iris flowers\")    "
   ]
  }
 ],
 "metadata": {
  "colab": {
   "collapsed_sections": [],
   "provenance": []
  },
  "kernelspec": {
   "display_name": "Python 3 (ipykernel)",
   "language": "python",
   "name": "python3"
  },
  "language_info": {
   "codemirror_mode": {
    "name": "ipython",
    "version": 3
   },
   "file_extension": ".py",
   "mimetype": "text/x-python",
   "name": "python",
   "nbconvert_exporter": "python",
   "pygments_lexer": "ipython3",
   "version": "3.9.7"
  },
  "toc": {
   "base_numbering": 1,
   "nav_menu": {},
   "number_sections": true,
   "sideBar": true,
   "skip_h1_title": false,
   "title_cell": "Table of Contents",
   "title_sidebar": "Contents",
   "toc_cell": false,
   "toc_position": {},
   "toc_section_display": true,
   "toc_window_display": false
  },
  "varInspector": {
   "cols": {
    "lenName": 16,
    "lenType": 16,
    "lenVar": 40
   },
   "kernels_config": {
    "python": {
     "delete_cmd_postfix": "",
     "delete_cmd_prefix": "del ",
     "library": "var_list.py",
     "varRefreshCmd": "print(var_dic_list())"
    },
    "r": {
     "delete_cmd_postfix": ") ",
     "delete_cmd_prefix": "rm(",
     "library": "var_list.r",
     "varRefreshCmd": "cat(var_dic_list()) "
    }
   },
   "types_to_exclude": [
    "module",
    "function",
    "builtin_function_or_method",
    "instance",
    "_Feature"
   ],
   "window_display": false
  },
  "vscode": {
   "interpreter": {
    "hash": "b0fa6594d8f4cbf19f97940f81e996739fb7646882a419484c72d19e05852a7e"
   }
  }
 },
 "nbformat": 4,
 "nbformat_minor": 1
}
